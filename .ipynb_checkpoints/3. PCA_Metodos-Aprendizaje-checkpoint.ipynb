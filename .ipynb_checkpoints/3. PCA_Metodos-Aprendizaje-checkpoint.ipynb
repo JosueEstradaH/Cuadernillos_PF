{
 "cells": [
  {
   "cell_type": "markdown",
   "id": "041c8cea",
   "metadata": {},
   "source": [
    "# Metodos de aprendizaje: Analisis del Componente Principal\n",
    "\n",
    "Equipo 1: Aurora Alvarez Samano, Josue Estrada Herrera"
   ]
  },
  {
   "cell_type": "markdown",
   "id": "99aeadcd",
   "metadata": {},
   "source": [
    "### Importar librerias"
   ]
  },
  {
   "cell_type": "code",
   "execution_count": 27,
   "id": "3b2409b2",
   "metadata": {},
   "outputs": [],
   "source": [
    "from sklearn.decomposition import PCA\n",
    "import matplotlib.pyplot as plt\n",
    "import seaborn as sns\n",
    "import pandas as pd\n",
    "import numpy as np\n",
    "%matplotlib inline"
   ]
  },
  {
   "cell_type": "markdown",
   "id": "4ed16537",
   "metadata": {},
   "source": [
    "Lectura del archivo"
   ]
  },
  {
   "cell_type": "code",
   "execution_count": 28,
   "id": "c8050104",
   "metadata": {},
   "outputs": [],
   "source": [
    "metodos = pd.read_csv(\"C:/Users/Estrada/Documents/Mineria de Datos AgoDic2021/Cuadernillos_PF/datos_metodos.csv\")"
   ]
  },
  {
   "cell_type": "markdown",
   "id": "7f0ae8bb",
   "metadata": {},
   "source": [
    "Vusualización del contenido"
   ]
  },
  {
   "cell_type": "code",
   "execution_count": 29,
   "id": "da537cf0",
   "metadata": {},
   "outputs": [
    {
     "data": {
      "text/html": [
       "<div>\n",
       "<style scoped>\n",
       "    .dataframe tbody tr th:only-of-type {\n",
       "        vertical-align: middle;\n",
       "    }\n",
       "\n",
       "    .dataframe tbody tr th {\n",
       "        vertical-align: top;\n",
       "    }\n",
       "\n",
       "    .dataframe thead th {\n",
       "        text-align: right;\n",
       "    }\n",
       "</style>\n",
       "<table border=\"1\" class=\"dataframe\">\n",
       "  <thead>\n",
       "    <tr style=\"text-align: right;\">\n",
       "      <th></th>\n",
       "      <th>Nombre</th>\n",
       "      <th>Nua</th>\n",
       "      <th>Semestre</th>\n",
       "      <th>Genero</th>\n",
       "      <th>Carrera</th>\n",
       "      <th>Materia</th>\n",
       "      <th>Elección</th>\n",
       "      <th>Tiempo de elección</th>\n",
       "      <th>TiempoVideo</th>\n",
       "      <th>TiempoPDF</th>\n",
       "      <th>TiempoAudio</th>\n",
       "      <th>TiempoEjemplo</th>\n",
       "      <th>Fecha_hora</th>\n",
       "      <th>Unnamed: 13</th>\n",
       "    </tr>\n",
       "  </thead>\n",
       "  <tbody>\n",
       "    <tr>\n",
       "      <th>0</th>\n",
       "      <td>Fidel Perez</td>\n",
       "      <td>145424</td>\n",
       "      <td>12</td>\n",
       "      <td>Hombre</td>\n",
       "      <td>LICE</td>\n",
       "      <td>Algebra Matriz 3X3</td>\n",
       "      <td>video</td>\n",
       "      <td>6</td>\n",
       "      <td>0.584572</td>\n",
       "      <td>0.000000</td>\n",
       "      <td>0.696459</td>\n",
       "      <td>1.967743</td>\n",
       "      <td>11/20/2021 22:49</td>\n",
       "      <td>NaN</td>\n",
       "    </tr>\n",
       "    <tr>\n",
       "      <th>1</th>\n",
       "      <td>Fidel Perez</td>\n",
       "      <td>145424</td>\n",
       "      <td>12</td>\n",
       "      <td>Hombre</td>\n",
       "      <td>LICE</td>\n",
       "      <td>Ingles VerbosIrregulares</td>\n",
       "      <td>pdf</td>\n",
       "      <td>8</td>\n",
       "      <td>1.985114</td>\n",
       "      <td>0.530954</td>\n",
       "      <td>0.000000</td>\n",
       "      <td>2.158200</td>\n",
       "      <td>11/20/2021 22:49</td>\n",
       "      <td>NaN</td>\n",
       "    </tr>\n",
       "    <tr>\n",
       "      <th>2</th>\n",
       "      <td>Fidel Perez</td>\n",
       "      <td>145424</td>\n",
       "      <td>12</td>\n",
       "      <td>Hombre</td>\n",
       "      <td>LICE</td>\n",
       "      <td>Quimica  Electrones de Valencia</td>\n",
       "      <td>video</td>\n",
       "      <td>8</td>\n",
       "      <td>1.830355</td>\n",
       "      <td>0.000000</td>\n",
       "      <td>0.000000</td>\n",
       "      <td>0.000000</td>\n",
       "      <td>11/20/2021 22:49</td>\n",
       "      <td>NaN</td>\n",
       "    </tr>\n",
       "    <tr>\n",
       "      <th>3</th>\n",
       "      <td>Fidel Perez</td>\n",
       "      <td>145424</td>\n",
       "      <td>12</td>\n",
       "      <td>Hombre</td>\n",
       "      <td>LICE</td>\n",
       "      <td>Ingles PresntSimple</td>\n",
       "      <td>ejemplo</td>\n",
       "      <td>8</td>\n",
       "      <td>0.000000</td>\n",
       "      <td>2.714251</td>\n",
       "      <td>0.000000</td>\n",
       "      <td>2.304171</td>\n",
       "      <td>11/20/2021 22:49</td>\n",
       "      <td>NaN</td>\n",
       "    </tr>\n",
       "    <tr>\n",
       "      <th>4</th>\n",
       "      <td>Fidel Perez</td>\n",
       "      <td>145424</td>\n",
       "      <td>12</td>\n",
       "      <td>Hombre</td>\n",
       "      <td>LICE</td>\n",
       "      <td>CalDif Limites</td>\n",
       "      <td>video</td>\n",
       "      <td>11</td>\n",
       "      <td>0.953845</td>\n",
       "      <td>0.020006</td>\n",
       "      <td>0.301034</td>\n",
       "      <td>0.163310</td>\n",
       "      <td>11/20/2021 22:49</td>\n",
       "      <td>NaN</td>\n",
       "    </tr>\n",
       "  </tbody>\n",
       "</table>\n",
       "</div>"
      ],
      "text/plain": [
       "        Nombre     Nua  Semestre  Genero Carrera  \\\n",
       "0  Fidel Perez  145424        12  Hombre    LICE   \n",
       "1  Fidel Perez  145424        12  Hombre    LICE   \n",
       "2  Fidel Perez  145424        12  Hombre    LICE   \n",
       "3  Fidel Perez  145424        12  Hombre    LICE   \n",
       "4  Fidel Perez  145424        12  Hombre    LICE   \n",
       "\n",
       "                          Materia  Elección   Tiempo de elección  TiempoVideo  \\\n",
       "0               Algebra Matriz 3X3     video                   6     0.584572   \n",
       "1         Ingles VerbosIrregulares       pdf                   8     1.985114   \n",
       "2  Quimica  Electrones de Valencia     video                   8     1.830355   \n",
       "3              Ingles PresntSimple   ejemplo                   8     0.000000   \n",
       "4                   CalDif Limites     video                  11     0.953845   \n",
       "\n",
       "   TiempoPDF  TiempoAudio  TiempoEjemplo        Fecha_hora  Unnamed: 13  \n",
       "0   0.000000     0.696459       1.967743  11/20/2021 22:49          NaN  \n",
       "1   0.530954     0.000000       2.158200  11/20/2021 22:49          NaN  \n",
       "2   0.000000     0.000000       0.000000  11/20/2021 22:49          NaN  \n",
       "3   2.714251     0.000000       2.304171  11/20/2021 22:49          NaN  \n",
       "4   0.020006     0.301034       0.163310  11/20/2021 22:49          NaN  "
      ]
     },
     "execution_count": 29,
     "metadata": {},
     "output_type": "execute_result"
    }
   ],
   "source": [
    "metodos.head()"
   ]
  },
  {
   "cell_type": "markdown",
   "id": "1bf82d37",
   "metadata": {},
   "source": [
    "La columna \"Nombre\", \"NUA\", \"Materia\" y \"Fecha y hora\" las podemos discriminar, ya que no nos proporciona datos como tal para nuestro analisis."
   ]
  },
  {
   "cell_type": "code",
   "execution_count": 30,
   "id": "4482b632",
   "metadata": {},
   "outputs": [
    {
     "data": {
      "text/html": [
       "<div>\n",
       "<style scoped>\n",
       "    .dataframe tbody tr th:only-of-type {\n",
       "        vertical-align: middle;\n",
       "    }\n",
       "\n",
       "    .dataframe tbody tr th {\n",
       "        vertical-align: top;\n",
       "    }\n",
       "\n",
       "    .dataframe thead th {\n",
       "        text-align: right;\n",
       "    }\n",
       "</style>\n",
       "<table border=\"1\" class=\"dataframe\">\n",
       "  <thead>\n",
       "    <tr style=\"text-align: right;\">\n",
       "      <th></th>\n",
       "      <th>Semestre</th>\n",
       "      <th>Tiempo de elección</th>\n",
       "      <th>TiempoVideo</th>\n",
       "      <th>TiempoPDF</th>\n",
       "      <th>TiempoAudio</th>\n",
       "      <th>TiempoEjemplo</th>\n",
       "    </tr>\n",
       "  </thead>\n",
       "  <tbody>\n",
       "    <tr>\n",
       "      <th>count</th>\n",
       "      <td>96.000000</td>\n",
       "      <td>96.000000</td>\n",
       "      <td>96.000000</td>\n",
       "      <td>96.000000</td>\n",
       "      <td>96.000000</td>\n",
       "      <td>96.000000</td>\n",
       "    </tr>\n",
       "    <tr>\n",
       "      <th>mean</th>\n",
       "      <td>8.687500</td>\n",
       "      <td>9.458333</td>\n",
       "      <td>0.929908</td>\n",
       "      <td>0.895798</td>\n",
       "      <td>0.636745</td>\n",
       "      <td>0.818571</td>\n",
       "    </tr>\n",
       "    <tr>\n",
       "      <th>std</th>\n",
       "      <td>1.904634</td>\n",
       "      <td>5.411327</td>\n",
       "      <td>1.568451</td>\n",
       "      <td>1.068273</td>\n",
       "      <td>1.184790</td>\n",
       "      <td>1.207333</td>\n",
       "    </tr>\n",
       "    <tr>\n",
       "      <th>min</th>\n",
       "      <td>7.000000</td>\n",
       "      <td>4.000000</td>\n",
       "      <td>0.000000</td>\n",
       "      <td>0.000000</td>\n",
       "      <td>0.000000</td>\n",
       "      <td>0.000000</td>\n",
       "    </tr>\n",
       "    <tr>\n",
       "      <th>25%</th>\n",
       "      <td>7.000000</td>\n",
       "      <td>6.000000</td>\n",
       "      <td>0.000000</td>\n",
       "      <td>0.000000</td>\n",
       "      <td>0.000000</td>\n",
       "      <td>0.000000</td>\n",
       "    </tr>\n",
       "    <tr>\n",
       "      <th>50%</th>\n",
       "      <td>8.000000</td>\n",
       "      <td>9.000000</td>\n",
       "      <td>0.489150</td>\n",
       "      <td>0.602902</td>\n",
       "      <td>0.000000</td>\n",
       "      <td>0.515946</td>\n",
       "    </tr>\n",
       "    <tr>\n",
       "      <th>75%</th>\n",
       "      <td>10.250000</td>\n",
       "      <td>11.000000</td>\n",
       "      <td>1.125752</td>\n",
       "      <td>1.426192</td>\n",
       "      <td>0.842861</td>\n",
       "      <td>1.184757</td>\n",
       "    </tr>\n",
       "    <tr>\n",
       "      <th>max</th>\n",
       "      <td>12.000000</td>\n",
       "      <td>43.000000</td>\n",
       "      <td>8.875425</td>\n",
       "      <td>3.912428</td>\n",
       "      <td>8.229528</td>\n",
       "      <td>8.009899</td>\n",
       "    </tr>\n",
       "  </tbody>\n",
       "</table>\n",
       "</div>"
      ],
      "text/plain": [
       "        Semestre  Tiempo de elección  TiempoVideo  TiempoPDF  TiempoAudio  \\\n",
       "count  96.000000           96.000000    96.000000  96.000000    96.000000   \n",
       "mean    8.687500            9.458333     0.929908   0.895798     0.636745   \n",
       "std     1.904634            5.411327     1.568451   1.068273     1.184790   \n",
       "min     7.000000            4.000000     0.000000   0.000000     0.000000   \n",
       "25%     7.000000            6.000000     0.000000   0.000000     0.000000   \n",
       "50%     8.000000            9.000000     0.489150   0.602902     0.000000   \n",
       "75%    10.250000           11.000000     1.125752   1.426192     0.842861   \n",
       "max    12.000000           43.000000     8.875425   3.912428     8.229528   \n",
       "\n",
       "       TiempoEjemplo  \n",
       "count      96.000000  \n",
       "mean        0.818571  \n",
       "std         1.207333  \n",
       "min         0.000000  \n",
       "25%         0.000000  \n",
       "50%         0.515946  \n",
       "75%         1.184757  \n",
       "max         8.009899  "
      ]
     },
     "execution_count": 30,
     "metadata": {},
     "output_type": "execute_result"
    }
   ],
   "source": [
    "metodos_data = metodos.drop(['Nombre'], axis=1)\n",
    "metodos_data = metodos_data.drop(['Nua'], axis=1)\n",
    "metodos_data = metodos_data.drop(['Materia '], axis=1)\n",
    "metodos_data = metodos_data.drop('Unnamed: 13',1)\n",
    "metodos_data = metodos_data.drop(['Fecha_hora'], axis=1)\n",
    "\n",
    "metodos_data.describe()"
   ]
  },
  {
   "cell_type": "markdown",
   "id": "7cc8b1ff",
   "metadata": {},
   "source": [
    "Como queremos evaluar con respecto a los datos de \"genero\", \"Semestre\" y \"carrera\", requerimos pasar estos datos de un texto a un valor numerico."
   ]
  },
  {
   "cell_type": "code",
   "execution_count": 31,
   "id": "56405dae",
   "metadata": {},
   "outputs": [
    {
     "data": {
      "text/html": [
       "<div>\n",
       "<style scoped>\n",
       "    .dataframe tbody tr th:only-of-type {\n",
       "        vertical-align: middle;\n",
       "    }\n",
       "\n",
       "    .dataframe tbody tr th {\n",
       "        vertical-align: top;\n",
       "    }\n",
       "\n",
       "    .dataframe thead th {\n",
       "        text-align: right;\n",
       "    }\n",
       "</style>\n",
       "<table border=\"1\" class=\"dataframe\">\n",
       "  <thead>\n",
       "    <tr style=\"text-align: right;\">\n",
       "      <th></th>\n",
       "      <th>Semestre</th>\n",
       "      <th>Genero</th>\n",
       "      <th>Carrera</th>\n",
       "      <th>Elección</th>\n",
       "      <th>Tiempo de elección</th>\n",
       "      <th>TiempoVideo</th>\n",
       "      <th>TiempoPDF</th>\n",
       "      <th>TiempoAudio</th>\n",
       "      <th>TiempoEjemplo</th>\n",
       "    </tr>\n",
       "  </thead>\n",
       "  <tbody>\n",
       "    <tr>\n",
       "      <th>0</th>\n",
       "      <td>12</td>\n",
       "      <td>1</td>\n",
       "      <td>1</td>\n",
       "      <td>1</td>\n",
       "      <td>6</td>\n",
       "      <td>0.584572</td>\n",
       "      <td>0.000000</td>\n",
       "      <td>0.696459</td>\n",
       "      <td>1.967743</td>\n",
       "    </tr>\n",
       "    <tr>\n",
       "      <th>1</th>\n",
       "      <td>12</td>\n",
       "      <td>1</td>\n",
       "      <td>1</td>\n",
       "      <td>2</td>\n",
       "      <td>8</td>\n",
       "      <td>1.985114</td>\n",
       "      <td>0.530954</td>\n",
       "      <td>0.000000</td>\n",
       "      <td>2.158200</td>\n",
       "    </tr>\n",
       "    <tr>\n",
       "      <th>2</th>\n",
       "      <td>12</td>\n",
       "      <td>1</td>\n",
       "      <td>1</td>\n",
       "      <td>1</td>\n",
       "      <td>8</td>\n",
       "      <td>1.830355</td>\n",
       "      <td>0.000000</td>\n",
       "      <td>0.000000</td>\n",
       "      <td>0.000000</td>\n",
       "    </tr>\n",
       "    <tr>\n",
       "      <th>3</th>\n",
       "      <td>12</td>\n",
       "      <td>1</td>\n",
       "      <td>1</td>\n",
       "      <td>4</td>\n",
       "      <td>8</td>\n",
       "      <td>0.000000</td>\n",
       "      <td>2.714251</td>\n",
       "      <td>0.000000</td>\n",
       "      <td>2.304171</td>\n",
       "    </tr>\n",
       "    <tr>\n",
       "      <th>4</th>\n",
       "      <td>12</td>\n",
       "      <td>1</td>\n",
       "      <td>1</td>\n",
       "      <td>1</td>\n",
       "      <td>11</td>\n",
       "      <td>0.953845</td>\n",
       "      <td>0.020006</td>\n",
       "      <td>0.301034</td>\n",
       "      <td>0.163310</td>\n",
       "    </tr>\n",
       "  </tbody>\n",
       "</table>\n",
       "</div>"
      ],
      "text/plain": [
       "   Semestre  Genero  Carrera  Elección   Tiempo de elección  TiempoVideo  \\\n",
       "0        12       1        1          1                   6     0.584572   \n",
       "1        12       1        1          2                   8     1.985114   \n",
       "2        12       1        1          1                   8     1.830355   \n",
       "3        12       1        1          4                   8     0.000000   \n",
       "4        12       1        1          1                  11     0.953845   \n",
       "\n",
       "   TiempoPDF  TiempoAudio  TiempoEjemplo  \n",
       "0   0.000000     0.696459       1.967743  \n",
       "1   0.530954     0.000000       2.158200  \n",
       "2   0.000000     0.000000       0.000000  \n",
       "3   2.714251     0.000000       2.304171  \n",
       "4   0.020006     0.301034       0.163310  "
      ]
     },
     "execution_count": 31,
     "metadata": {},
     "output_type": "execute_result"
    }
   ],
   "source": [
    "genero= metodos_data.iloc[:, [1]] \n",
    "genero = genero.values\n",
    "\n",
    "for x in range(96):\n",
    "    if genero[x]=='Hombre':\n",
    "        genero[x]=1\n",
    "    elif genero[x]=='Mujer':\n",
    "        genero[x]=2\n",
    "    else :\n",
    "        genero[x]=0\n",
    "\n",
    "carrera= metodos_data.iloc[:, [2]] \n",
    "carrera = carrera.values\n",
    "\n",
    "for x in range(96):\n",
    "    if carrera[x]=='LICE':\n",
    "        carrera[x]=1\n",
    "    if carrera[x]=='LISC':\n",
    "        carrera[x]=2\n",
    "    if carrera[x]=='LGE':\n",
    "        carrera[x]=3\n",
    "    if carrera[x]=='LEI':\n",
    "        carrera[x]=4\n",
    "        \n",
    "eleccion= metodos_data.iloc[:, [3]] \n",
    "eleccion = eleccion.values\n",
    "\n",
    "for x in range(96):\n",
    "    if eleccion[x]=='video':\n",
    "        eleccion[x]=1\n",
    "    if eleccion[x]=='pdf':\n",
    "        eleccion[x]=2\n",
    "    if eleccion[x]=='audio':\n",
    "        eleccion[x]=3\n",
    "    if eleccion[x]=='ejemplo':\n",
    "        eleccion[x]=4       \n",
    "        \n",
    "metodos_data.iloc[:, [1]] = genero\n",
    "metodos_data.iloc[:, [2]] = carrera\n",
    "metodos_data.iloc[:, [3]] = eleccion\n",
    "\n",
    "metodos_data.head()"
   ]
  },
  {
   "cell_type": "code",
   "execution_count": 32,
   "id": "00658a33",
   "metadata": {},
   "outputs": [
    {
     "data": {
      "text/plain": [
       "Index(['Semestre', 'Genero', 'Carrera', 'Elección ', 'Tiempo de elección',\n",
       "       'TiempoVideo', 'TiempoPDF', 'TiempoAudio', 'TiempoEjemplo'],\n",
       "      dtype='object')"
      ]
     },
     "execution_count": 32,
     "metadata": {},
     "output_type": "execute_result"
    }
   ],
   "source": [
    "metodos_data.keys()"
   ]
  },
  {
   "cell_type": "code",
   "execution_count": 39,
   "id": "5009971c",
   "metadata": {},
   "outputs": [],
   "source": [
    "x = metodos_data.iloc[:,1:8].values\n",
    "y = metodos_data.iloc[:,3].values"
   ]
  },
  {
   "cell_type": "markdown",
   "id": "a1fd90ce",
   "metadata": {},
   "source": [
    "Dividir el conjunto de datos en el conjunto de entrenamiento y el conjunto de prueba"
   ]
  },
  {
   "cell_type": "code",
   "execution_count": 43,
   "id": "6d107640",
   "metadata": {},
   "outputs": [],
   "source": [
    "from sklearn.model_selection import train_test_split\n",
    " \n",
    "x_train, x_test, y_train, y_test = train_test_split(x, y, test_size = 0.2, random_state = 0)"
   ]
  },
  {
   "cell_type": "markdown",
   "id": "82e03fe5",
   "metadata": {},
   "source": [
    "Escalado de funciones\n",
    "Realización de la parte de preprocesamiento en el conjunto de entrenamiento y prueba, como ajustar la escala estándar."
   ]
  },
  {
   "cell_type": "code",
   "execution_count": 44,
   "id": "aad71bfe",
   "metadata": {},
   "outputs": [],
   "source": [
    "from sklearn.preprocessing import StandardScaler\n",
    "sc = StandardScaler()\n",
    " \n",
    "x_train = sc.fit_transform(x_train)\n",
    "x_test = sc.transform(x_test)"
   ]
  },
  {
   "cell_type": "markdown",
   "id": "3418ccd3",
   "metadata": {},
   "source": [
    "###### Aplicación de la función PCA\n",
    "Aplicar la función PCA en el conjunto de entrenamiento y prueba para su análisis."
   ]
  },
  {
   "cell_type": "code",
   "execution_count": 45,
   "id": "5dc040d3",
   "metadata": {},
   "outputs": [],
   "source": [
    "from sklearn.decomposition import PCA\n",
    " \n",
    "pca = PCA(n_components = 2)\n",
    " \n",
    "x_train = pca.fit_transform(x_train)\n",
    "x_test = pca.transform(x_test)\n",
    " \n",
    "explained_variance = pca.explained_variance_ratio_"
   ]
  },
  {
   "cell_type": "markdown",
   "id": "02de420f",
   "metadata": {},
   "source": [
    "Adaptación de la regresión logística al conjunto de formación"
   ]
  },
  {
   "cell_type": "code",
   "execution_count": 47,
   "id": "443c7653",
   "metadata": {},
   "outputs": [
    {
     "data": {
      "text/plain": [
       "LogisticRegression(random_state=0)"
      ]
     },
     "execution_count": 47,
     "metadata": {},
     "output_type": "execute_result"
    }
   ],
   "source": [
    "from sklearn.linear_model import LogisticRegression \n",
    " \n",
    "classifier = LogisticRegression(random_state = 0)\n",
    "classifier.fit(x_train, y_train)"
   ]
  },
  {
   "cell_type": "code",
   "execution_count": 48,
   "id": "8140c45d",
   "metadata": {},
   "outputs": [],
   "source": [
    "y_pred = classifier.predict(x_test)"
   ]
  },
  {
   "cell_type": "markdown",
   "id": "e00d1e39",
   "metadata": {},
   "source": [
    "Haciendo la matriz de confusión"
   ]
  },
  {
   "cell_type": "code",
   "execution_count": 49,
   "id": "90a0d55c",
   "metadata": {},
   "outputs": [],
   "source": [
    "from sklearn.metrics import confusion_matrix\n",
    " \n",
    "cm = confusion_matrix(y_test, y_pred)"
   ]
  },
  {
   "cell_type": "markdown",
   "id": "35990f18",
   "metadata": {},
   "source": [
    "Predecir el resultado del conjunto de entrenamiento"
   ]
  },
  {
   "cell_type": "code",
   "execution_count": 51,
   "id": "932694c9",
   "metadata": {},
   "outputs": [
    {
     "name": "stderr",
     "output_type": "stream",
     "text": [
      "*c* argument looks like a single numeric RGB or RGBA sequence, which should be avoided as value-mapping will have precedence in case its length matches with *x* & *y*.  Please use the *color* keyword-argument or provide a 2-D array with a single row if you intend to specify the same RGB or RGBA value for all points.\n",
      "*c* argument looks like a single numeric RGB or RGBA sequence, which should be avoided as value-mapping will have precedence in case its length matches with *x* & *y*.  Please use the *color* keyword-argument or provide a 2-D array with a single row if you intend to specify the same RGB or RGBA value for all points.\n",
      "*c* argument looks like a single numeric RGB or RGBA sequence, which should be avoided as value-mapping will have precedence in case its length matches with *x* & *y*.  Please use the *color* keyword-argument or provide a 2-D array with a single row if you intend to specify the same RGB or RGBA value for all points.\n",
      "*c* argument looks like a single numeric RGB or RGBA sequence, which should be avoided as value-mapping will have precedence in case its length matches with *x* & *y*.  Please use the *color* keyword-argument or provide a 2-D array with a single row if you intend to specify the same RGB or RGBA value for all points.\n"
     ]
    },
    {
     "data": {
      "image/png": "[encoded data removed]",
      "text/plain": [
       "<Figure size 432x288 with 1 Axes>"
      ]
     },
     "metadata": {
      "needs_background": "light"
     },
     "output_type": "display_data"
    }
   ],
   "source": [
    "from matplotlib.colors import ListedColormap\n",
    " \n",
    "x_set, y_set = x_train, y_train\n",
    "X1, X2 = np.meshgrid(np.arange(start = x_set[:, 0].min() - 1,\n",
    "                     stop = x_set[:, 0].max() + 1, step = 0.01),\n",
    "                     np.arange(start = x_set[:, 1].min() - 1,\n",
    "                     stop = x_set[:, 1].max() + 1, step = 0.01))\n",
    " \n",
    "plt.contourf(X1, X2, classifier.predict(np.array([X1.ravel(),\n",
    "             X2.ravel()]).T).reshape(X1.shape), alpha = 0.75,\n",
    "             cmap = ListedColormap(('yellow', 'white', 'aquamarine')))\n",
    " \n",
    "plt.xlim(X1.min(), X1.max())\n",
    "plt.ylim(X2.min(), X2.max())\n",
    " \n",
    "for i, j in enumerate(np.unique(y_set)):\n",
    "    plt.scatter(x_set[y_set == j, 0], x_set[y_set == j, 1],\n",
    "                c = ListedColormap(('red', 'green', 'blue'))(i), label = j)\n",
    " \n",
    "plt.title('Logistic Regression (Training set)')\n",
    "plt.xlabel('PC1') # para Xlabel\n",
    "plt.ylabel('PC2') # para Ylabel\n",
    "plt.legend() # para mostrar leyenda\n",
    " \n",
    "# mostrar diagrama de dispersión\n",
    "plt.show()"
   ]
  },
  {
   "cell_type": "markdown",
   "id": "0926abb7",
   "metadata": {},
   "source": [
    "Visualización de los resultados del conjunto de prueba"
   ]
  },
  {
   "cell_type": "code",
   "execution_count": 53,
   "id": "5c894cb3",
   "metadata": {},
   "outputs": [
    {
     "name": "stderr",
     "output_type": "stream",
     "text": [
      "*c* argument looks like a single numeric RGB or RGBA sequence, which should be avoided as value-mapping will have precedence in case its length matches with *x* & *y*.  Please use the *color* keyword-argument or provide a 2-D array with a single row if you intend to specify the same RGB or RGBA value for all points.\n",
      "*c* argument looks like a single numeric RGB or RGBA sequence, which should be avoided as value-mapping will have precedence in case its length matches with *x* & *y*.  Please use the *color* keyword-argument or provide a 2-D array with a single row if you intend to specify the same RGB or RGBA value for all points.\n",
      "*c* argument looks like a single numeric RGB or RGBA sequence, which should be avoided as value-mapping will have precedence in case its length matches with *x* & *y*.  Please use the *color* keyword-argument or provide a 2-D array with a single row if you intend to specify the same RGB or RGBA value for all points.\n",
      "*c* argument looks like a single numeric RGB or RGBA sequence, which should be avoided as value-mapping will have precedence in case its length matches with *x* & *y*.  Please use the *color* keyword-argument or provide a 2-D array with a single row if you intend to specify the same RGB or RGBA value for all points.\n"
     ]
    },
    {
     "data": {
      "image/png": "[encoded data removed]",
      "text/plain": [
       "<Figure size 432x288 with 1 Axes>"
      ]
     },
     "metadata": {
      "needs_background": "light"
     },
     "output_type": "display_data"
    }
   ],
   "source": [
    "from matplotlib.colors import ListedColormap\n",
    " \n",
    "x_set, y_set = x_test, y_test\n",
    " \n",
    "X1, X2 = np.meshgrid(np.arange(start = x_set[:, 0].min() - 1,\n",
    "                     stop = x_set[:, 0].max() + 1, step = 0.01),\n",
    "                     np.arange(start = x_set[:, 1].min() - 1,\n",
    "                     stop = x_set[:, 1].max() + 1, step = 0.01))\n",
    " \n",
    "plt.contourf(X1, X2, classifier.predict(np.array([X1.ravel(),\n",
    "             X2.ravel()]).T).reshape(X1.shape), alpha = 0.75,\n",
    "             cmap = ListedColormap(('yellow', 'white', 'aquamarine')))\n",
    " \n",
    "plt.xlim(X1.min(), X1.max())\n",
    "plt.ylim(X2.min(), X2.max())\n",
    " \n",
    "for i, j in enumerate(np.unique(y_set)):\n",
    "    plt.scatter(x_set[y_set == j, 0], x_set[y_set == j, 1],\n",
    "                c = ListedColormap(('red', 'green', 'blue'))(i), label = j)\n",
    " \n",
    "# title for scatter plot\n",
    "plt.title('Logistic Regression (Test set)')\n",
    "plt.xlabel('PC1')\n",
    "plt.ylabel('PC2') \n",
    "plt.legend()\n",
    " \n",
    "\n",
    "plt.show()"
   ]
  },
  {
   "cell_type": "code",
   "execution_count": null,
   "id": "63415e66",
   "metadata": {},
   "outputs": [],
   "source": []
  }
 ],
 "metadata": {
  "kernelspec": {
   "display_name": "Python 3",
   "language": "python",
   "name": "python3"
  },
  "language_info": {
   "codemirror_mode": {
    "name": "ipython",
    "version": 3
   },
   "file_extension": ".py",
   "mimetype": "text/x-python",
   "name": "python",
   "nbconvert_exporter": "python",
   "pygments_lexer": "ipython3",
   "version": "3.8.8"
  }
 },
 "nbformat": 4,
 "nbformat_minor": 5
}
