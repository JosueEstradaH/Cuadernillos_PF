{
 "cells": [
  {
   "cell_type": "markdown",
   "id": "a7c23684",
   "metadata": {},
   "source": [
    "# Implementación de Gaussian Naive-Bayes para el proyecto de modelos de autoaprendizaje.\n",
    "#### Equipo 1: Aurora Álvarez Samano, JosueEstrada Herrera"
   ]
  },
  {
   "cell_type": "markdown",
   "id": "aae2f57d",
   "metadata": {},
   "source": [
    "## Loading Initial Libraries\n",
    "\n",
    "We will start by loading some initial libraries to load and visualize the dataset."
   ]
  },
  {
   "cell_type": "code",
   "execution_count": 1,
   "id": "84442b48",
   "metadata": {},
   "outputs": [],
   "source": [
    "import numpy as np \n",
    "import pandas as pd\n",
    "import matplotlib.pyplot as plt"
   ]
  },
  {
   "cell_type": "markdown",
   "id": "5ad917e3",
   "metadata": {},
   "source": [
    "Importarmo los datos que requerimos de nuestro archivo .csv"
   ]
  },
  {
   "cell_type": "code",
   "execution_count": 2,
   "id": "d4abbf1d",
   "metadata": {},
   "outputs": [],
   "source": [
    "dataset = pd.read_csv(\"datos_metodos.csv\")"
   ]
  },
  {
   "cell_type": "markdown",
   "id": "a6b37298",
   "metadata": {},
   "source": [
    "La columna \"Nombre\", \"NUA\", \"Materia\" y \"Fecha y hora\" las podemos discriminar, ya que no nos proporciona datos como tal para nuestro analisis."
   ]
  },
  {
   "cell_type": "code",
   "execution_count": 3,
   "id": "cf4bd4de",
   "metadata": {},
   "outputs": [],
   "source": [
    "dataset_data = dataset.drop(['Nombre'], axis=1)\n",
    "dataset_data = dataset_data.drop(['Nua'], axis=1)\n",
    "dataset_data = dataset_data.drop(['Materia '], axis=1)\n",
    "dataset_data = dataset_data.drop('Unnamed: 13',1)\n",
    "dataset_data = dataset_data.drop(['Fecha_hora'], axis=1)"
   ]
  },
  {
   "cell_type": "code",
   "execution_count": 4,
   "id": "786ffff7",
   "metadata": {},
   "outputs": [
    {
     "data": {
      "text/html": [
       "<div>\n",
       "<style scoped>\n",
       "    .dataframe tbody tr th:only-of-type {\n",
       "        vertical-align: middle;\n",
       "    }\n",
       "\n",
       "    .dataframe tbody tr th {\n",
       "        vertical-align: top;\n",
       "    }\n",
       "\n",
       "    .dataframe thead th {\n",
       "        text-align: right;\n",
       "    }\n",
       "</style>\n",
       "<table border=\"1\" class=\"dataframe\">\n",
       "  <thead>\n",
       "    <tr style=\"text-align: right;\">\n",
       "      <th></th>\n",
       "      <th>Semestre</th>\n",
       "      <th>Genero</th>\n",
       "      <th>Carrera</th>\n",
       "      <th>Elección</th>\n",
       "      <th>Tiempo de elección</th>\n",
       "      <th>TiempoVideo</th>\n",
       "      <th>TiempoPDF</th>\n",
       "      <th>TiempoAudio</th>\n",
       "      <th>TiempoEjemplo</th>\n",
       "    </tr>\n",
       "  </thead>\n",
       "  <tbody>\n",
       "    <tr>\n",
       "      <th>0</th>\n",
       "      <td>12</td>\n",
       "      <td>1</td>\n",
       "      <td>1</td>\n",
       "      <td>1</td>\n",
       "      <td>6</td>\n",
       "      <td>0.584572</td>\n",
       "      <td>0.000000</td>\n",
       "      <td>0.696459</td>\n",
       "      <td>1.967743</td>\n",
       "    </tr>\n",
       "    <tr>\n",
       "      <th>1</th>\n",
       "      <td>12</td>\n",
       "      <td>1</td>\n",
       "      <td>1</td>\n",
       "      <td>2</td>\n",
       "      <td>8</td>\n",
       "      <td>1.985114</td>\n",
       "      <td>0.530954</td>\n",
       "      <td>0.000000</td>\n",
       "      <td>2.158200</td>\n",
       "    </tr>\n",
       "    <tr>\n",
       "      <th>2</th>\n",
       "      <td>12</td>\n",
       "      <td>1</td>\n",
       "      <td>1</td>\n",
       "      <td>1</td>\n",
       "      <td>8</td>\n",
       "      <td>1.830355</td>\n",
       "      <td>0.000000</td>\n",
       "      <td>0.000000</td>\n",
       "      <td>0.000000</td>\n",
       "    </tr>\n",
       "    <tr>\n",
       "      <th>3</th>\n",
       "      <td>12</td>\n",
       "      <td>1</td>\n",
       "      <td>1</td>\n",
       "      <td>4</td>\n",
       "      <td>8</td>\n",
       "      <td>0.000000</td>\n",
       "      <td>2.714251</td>\n",
       "      <td>0.000000</td>\n",
       "      <td>2.304171</td>\n",
       "    </tr>\n",
       "    <tr>\n",
       "      <th>4</th>\n",
       "      <td>12</td>\n",
       "      <td>1</td>\n",
       "      <td>1</td>\n",
       "      <td>1</td>\n",
       "      <td>11</td>\n",
       "      <td>0.953845</td>\n",
       "      <td>0.020006</td>\n",
       "      <td>0.301034</td>\n",
       "      <td>0.163310</td>\n",
       "    </tr>\n",
       "  </tbody>\n",
       "</table>\n",
       "</div>"
      ],
      "text/plain": [
       "   Semestre  Genero  Carrera  Elección   Tiempo de elección  TiempoVideo  \\\n",
       "0        12       1        1          1                   6     0.584572   \n",
       "1        12       1        1          2                   8     1.985114   \n",
       "2        12       1        1          1                   8     1.830355   \n",
       "3        12       1        1          4                   8     0.000000   \n",
       "4        12       1        1          1                  11     0.953845   \n",
       "\n",
       "   TiempoPDF  TiempoAudio  TiempoEjemplo  \n",
       "0   0.000000     0.696459       1.967743  \n",
       "1   0.530954     0.000000       2.158200  \n",
       "2   0.000000     0.000000       0.000000  \n",
       "3   2.714251     0.000000       2.304171  \n",
       "4   0.020006     0.301034       0.163310  "
      ]
     },
     "execution_count": 4,
     "metadata": {},
     "output_type": "execute_result"
    }
   ],
   "source": [
    "genero= dataset_data.iloc[:, [1]] \n",
    "genero = genero.values\n",
    "\n",
    "for x in range(96):\n",
    "    if genero[x]=='Hombre':\n",
    "        genero[x]=1\n",
    "    elif genero[x]=='Mujer':\n",
    "        genero[x]=2\n",
    "    else :\n",
    "        genero[x]=0\n",
    "\n",
    "carrera= dataset_data.iloc[:, [2]] \n",
    "carrera = carrera.values\n",
    "\n",
    "for x in range(96):\n",
    "    if carrera[x]=='LICE':\n",
    "        carrera[x]=1\n",
    "    if carrera[x]=='LISC':\n",
    "        carrera[x]=2\n",
    "    if carrera[x]=='LGE':\n",
    "        carrera[x]=3\n",
    "    if carrera[x]=='LEI':\n",
    "        carrera[x]=4\n",
    "        \n",
    "eleccion= dataset_data.iloc[:, [3]] \n",
    "eleccion = eleccion.values\n",
    "\n",
    "for x in range(96):\n",
    "    if eleccion[x]=='video':\n",
    "        eleccion[x]=1\n",
    "    if eleccion[x]=='pdf':\n",
    "        eleccion[x]=2\n",
    "    if eleccion[x]=='audio':\n",
    "        eleccion[x]=3\n",
    "    if eleccion[x]=='ejemplo':\n",
    "        eleccion[x]=4       \n",
    "        \n",
    "dataset_data.iloc[:, [1]] = genero\n",
    "dataset_data.iloc[:, [2]] = carrera\n",
    "dataset_data.iloc[:, [3]] = eleccion\n",
    "\n",
    "dataset_data.head()"
   ]
  },
  {
   "cell_type": "code",
   "execution_count": 5,
   "id": "9b5cc55f",
   "metadata": {},
   "outputs": [
    {
     "data": {
      "text/plain": [
       "Index(['Semestre', 'Genero', 'Carrera', 'Elección ', 'Tiempo de elección',\n",
       "       'TiempoVideo', 'TiempoPDF', 'TiempoAudio', 'TiempoEjemplo'],\n",
       "      dtype='object')"
      ]
     },
     "execution_count": 5,
     "metadata": {},
     "output_type": "execute_result"
    }
   ],
   "source": [
    "dataset_data.keys()"
   ]
  },
  {
   "cell_type": "code",
   "execution_count": 6,
   "id": "d3e72c8c",
   "metadata": {},
   "outputs": [],
   "source": [
    "from sklearn.model_selection import train_test_split"
   ]
  },
  {
   "cell_type": "code",
   "execution_count": 23,
   "id": "257e355e",
   "metadata": {},
   "outputs": [],
   "source": [
    "D = dataset_data.values\n",
    "x = D[:,0:8]\n",
    "y = D[:,3]"
   ]
  },
  {
   "cell_type": "code",
   "execution_count": 24,
   "id": "e4f3b426",
   "metadata": {},
   "outputs": [],
   "source": [
    "x_train, x_test, y_train, y_test = train_test_split(x, y, test_size=0.2)"
   ]
  },
  {
   "cell_type": "markdown",
   "id": "dc29e978",
   "metadata": {},
   "source": [
    "#### Defino el algoritmo a utilizar\n",
    "Naive Bayes"
   ]
  },
  {
   "cell_type": "code",
   "execution_count": 25,
   "id": "dc884aa0",
   "metadata": {},
   "outputs": [],
   "source": [
    "from sklearn.naive_bayes import GaussianNB"
   ]
  },
  {
   "cell_type": "code",
   "execution_count": 26,
   "id": "042a7337",
   "metadata": {},
   "outputs": [
    {
     "data": {
      "text/plain": [
       "GaussianNB()"
      ]
     },
     "execution_count": 26,
     "metadata": {},
     "output_type": "execute_result"
    }
   ],
   "source": [
    "nb = GaussianNB() # Algoritmo\n",
    "nb.fit(x_train, y_train)"
   ]
  },
  {
   "cell_type": "markdown",
   "id": "f79009da",
   "metadata": {},
   "source": [
    "Realizo una predicción"
   ]
  },
  {
   "cell_type": "code",
   "execution_count": 27,
   "id": "e4e83b27",
   "metadata": {},
   "outputs": [],
   "source": [
    "y_pred = nb.predict(x_test)"
   ]
  },
  {
   "cell_type": "markdown",
   "id": "8927d04d",
   "metadata": {},
   "source": [
    "Veamos la matris de confusión"
   ]
  },
  {
   "cell_type": "code",
   "execution_count": 28,
   "id": "eeb2c899",
   "metadata": {},
   "outputs": [
    {
     "name": "stdout",
     "output_type": "stream",
     "text": [
      "Matriz de Confusión:\n",
      "[[5 0 0 0]\n",
      " [0 7 0 0]\n",
      " [0 0 2 0]\n",
      " [0 0 0 6]]\n"
     ]
    }
   ],
   "source": [
    "from sklearn.metrics import confusion_matrix\n",
    "\n",
    "matriz = confusion_matrix(y_test, y_pred)\n",
    "print('Matriz de Confusión:')\n",
    "print(matriz)"
   ]
  },
  {
   "cell_type": "markdown",
   "id": "a9e0e745",
   "metadata": {},
   "source": [
    "Calculamos la precisión del modelo"
   ]
  },
  {
   "cell_type": "code",
   "execution_count": 29,
   "id": "adf2900c",
   "metadata": {},
   "outputs": [],
   "source": [
    "from sklearn.metrics import precision_score\n"
   ]
  },
  {
   "cell_type": "code",
   "execution_count": 30,
   "id": "008e76bf",
   "metadata": {},
   "outputs": [
    {
     "name": "stdout",
     "output_type": "stream",
     "text": [
      "Naive Bayes score:  1.0\n"
     ]
    }
   ],
   "source": [
    "print(\"Naive Bayes score: \",nb.score(x_test, y_test))"
   ]
  },
  {
   "cell_type": "code",
   "execution_count": null,
   "id": "a1d5cdfd",
   "metadata": {},
   "outputs": [],
   "source": []
  }
 ],
 "metadata": {
  "kernelspec": {
   "display_name": "Python 3",
   "language": "python",
   "name": "python3"
  },
  "language_info": {
   "codemirror_mode": {
    "name": "ipython",
    "version": 3
   },
   "file_extension": ".py",
   "mimetype": "text/x-python",
   "name": "python",
   "nbconvert_exporter": "python",
   "pygments_lexer": "ipython3",
   "version": "3.8.8"
  }
 },
 "nbformat": 4,
 "nbformat_minor": 5
}
